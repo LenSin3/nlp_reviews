{
 "cells": [
  {
   "cell_type": "code",
   "execution_count": 1,
   "id": "gross-roommate",
   "metadata": {},
   "outputs": [],
   "source": [
    "# import dependencies\n",
    "import pandas as pd\n",
    "import matplotlib.pyplot as plt\n",
    "import numpy as np"
   ]
  },
  {
   "cell_type": "code",
   "execution_count": 2,
   "id": "corresponding-quick",
   "metadata": {},
   "outputs": [
    {
     "data": {
      "text/html": [
       "<div>\n",
       "<style scoped>\n",
       "    .dataframe tbody tr th:only-of-type {\n",
       "        vertical-align: middle;\n",
       "    }\n",
       "\n",
       "    .dataframe tbody tr th {\n",
       "        vertical-align: top;\n",
       "    }\n",
       "\n",
       "    .dataframe thead th {\n",
       "        text-align: right;\n",
       "    }\n",
       "</style>\n",
       "<table border=\"1\" class=\"dataframe\">\n",
       "  <thead>\n",
       "    <tr style=\"text-align: right;\">\n",
       "      <th></th>\n",
       "      <th>Unnamed: 0</th>\n",
       "      <th>asin</th>\n",
       "      <th>image</th>\n",
       "      <th>overall</th>\n",
       "      <th>reviewText</th>\n",
       "      <th>reviewTime</th>\n",
       "      <th>reviewerID</th>\n",
       "      <th>reviewerName</th>\n",
       "      <th>summary</th>\n",
       "      <th>unixReviewTime</th>\n",
       "      <th>verified</th>\n",
       "      <th>vote</th>\n",
       "    </tr>\n",
       "  </thead>\n",
       "  <tbody>\n",
       "    <tr>\n",
       "      <th>0</th>\n",
       "      <td>0</td>\n",
       "      <td>3979050432</td>\n",
       "      <td>NaN</td>\n",
       "      <td>2.0</td>\n",
       "      <td>I bought this for my son and after 3 wears the...</td>\n",
       "      <td>11 19, 2014</td>\n",
       "      <td>A3COROWUV2JCDY</td>\n",
       "      <td>Marie</td>\n",
       "      <td>The quality is poor.</td>\n",
       "      <td>1416355200</td>\n",
       "      <td>True</td>\n",
       "      <td>NaN</td>\n",
       "    </tr>\n",
       "    <tr>\n",
       "      <th>1</th>\n",
       "      <td>1</td>\n",
       "      <td>5120053084</td>\n",
       "      <td>NaN</td>\n",
       "      <td>3.0</td>\n",
       "      <td>The material is nice and soft but it's a frump...</td>\n",
       "      <td>12 21, 2017</td>\n",
       "      <td>A33LFLWDQ446YN</td>\n",
       "      <td>Tessaj30</td>\n",
       "      <td>Wouldn't recommend.</td>\n",
       "      <td>1513814400</td>\n",
       "      <td>True</td>\n",
       "      <td>NaN</td>\n",
       "    </tr>\n",
       "    <tr>\n",
       "      <th>2</th>\n",
       "      <td>2</td>\n",
       "      <td>5120053084</td>\n",
       "      <td>NaN</td>\n",
       "      <td>3.0</td>\n",
       "      <td>But not really good looking. Quality of fabric...</td>\n",
       "      <td>09 29, 2017</td>\n",
       "      <td>A2WGO277SII669</td>\n",
       "      <td>Butterfly</td>\n",
       "      <td>Comfortable and practical</td>\n",
       "      <td>1506643200</td>\n",
       "      <td>True</td>\n",
       "      <td>NaN</td>\n",
       "    </tr>\n",
       "    <tr>\n",
       "      <th>3</th>\n",
       "      <td>3</td>\n",
       "      <td>5120053890</td>\n",
       "      <td>NaN</td>\n",
       "      <td>4.0</td>\n",
       "      <td>I actually ended up returning this. The fit wa...</td>\n",
       "      <td>09 26, 2016</td>\n",
       "      <td>A22IGYALXEYTFB</td>\n",
       "      <td>vincentsmommy</td>\n",
       "      <td>I actually ended up returning this. The fit wa...</td>\n",
       "      <td>1474848000</td>\n",
       "      <td>True</td>\n",
       "      <td>NaN</td>\n",
       "    </tr>\n",
       "    <tr>\n",
       "      <th>4</th>\n",
       "      <td>4</td>\n",
       "      <td>5120053890</td>\n",
       "      <td>NaN</td>\n",
       "      <td>4.0</td>\n",
       "      <td>this dress feels somewhat thick on me and the ...</td>\n",
       "      <td>09 25, 2016</td>\n",
       "      <td>AEE2EOIPUJ529</td>\n",
       "      <td>HoustonMom</td>\n",
       "      <td>Four Stars</td>\n",
       "      <td>1474761600</td>\n",
       "      <td>True</td>\n",
       "      <td>NaN</td>\n",
       "    </tr>\n",
       "  </tbody>\n",
       "</table>\n",
       "</div>"
      ],
      "text/plain": [
       "   Unnamed: 0        asin image  overall  \\\n",
       "0           0  3979050432   NaN      2.0   \n",
       "1           1  5120053084   NaN      3.0   \n",
       "2           2  5120053084   NaN      3.0   \n",
       "3           3  5120053890   NaN      4.0   \n",
       "4           4  5120053890   NaN      4.0   \n",
       "\n",
       "                                          reviewText   reviewTime  \\\n",
       "0  I bought this for my son and after 3 wears the...  11 19, 2014   \n",
       "1  The material is nice and soft but it's a frump...  12 21, 2017   \n",
       "2  But not really good looking. Quality of fabric...  09 29, 2017   \n",
       "3  I actually ended up returning this. The fit wa...  09 26, 2016   \n",
       "4  this dress feels somewhat thick on me and the ...  09 25, 2016   \n",
       "\n",
       "       reviewerID   reviewerName  \\\n",
       "0  A3COROWUV2JCDY          Marie   \n",
       "1  A33LFLWDQ446YN       Tessaj30   \n",
       "2  A2WGO277SII669      Butterfly   \n",
       "3  A22IGYALXEYTFB  vincentsmommy   \n",
       "4   AEE2EOIPUJ529     HoustonMom   \n",
       "\n",
       "                                             summary  unixReviewTime  \\\n",
       "0                               The quality is poor.      1416355200   \n",
       "1                                Wouldn't recommend.      1513814400   \n",
       "2                          Comfortable and practical      1506643200   \n",
       "3  I actually ended up returning this. The fit wa...      1474848000   \n",
       "4                                         Four Stars      1474761600   \n",
       "\n",
       "   verified  vote  \n",
       "0      True   NaN  \n",
       "1      True   NaN  \n",
       "2      True   NaN  \n",
       "3      True   NaN  \n",
       "4      True   NaN  "
      ]
     },
     "execution_count": 2,
     "metadata": {},
     "output_type": "execute_result"
    }
   ],
   "source": [
    "# inspect data\n",
    "df = pd.read_csv('nlp_output.csv')\n",
    "df.head()"
   ]
  },
  {
   "cell_type": "markdown",
   "id": "hollywood-watershed",
   "metadata": {},
   "source": [
    "# Data Cleaning and Exploratory Data Analysis"
   ]
  },
  {
   "cell_type": "code",
   "execution_count": 3,
   "id": "entertaining-reputation",
   "metadata": {},
   "outputs": [
    {
     "name": "stdout",
     "output_type": "stream",
     "text": [
      "226658\n"
     ]
    }
   ],
   "source": [
    "print(len(df))"
   ]
  },
  {
   "cell_type": "code",
   "execution_count": 4,
   "id": "equipped-escape",
   "metadata": {},
   "outputs": [
    {
     "name": "stdout",
     "output_type": "stream",
     "text": [
      "<class 'pandas.core.frame.DataFrame'>\n",
      "RangeIndex: 226658 entries, 0 to 226657\n",
      "Data columns (total 12 columns):\n",
      " #   Column          Non-Null Count   Dtype  \n",
      "---  ------          --------------   -----  \n",
      " 0   Unnamed: 0      226658 non-null  int64  \n",
      " 1   asin            226658 non-null  object \n",
      " 2   image           4924 non-null    object \n",
      " 3   overall         226658 non-null  float64\n",
      " 4   reviewText      226475 non-null  object \n",
      " 5   reviewTime      226658 non-null  object \n",
      " 6   reviewerID      226658 non-null  object \n",
      " 7   reviewerName    226621 non-null  object \n",
      " 8   summary         226551 non-null  object \n",
      " 9   unixReviewTime  226658 non-null  int64  \n",
      " 10  verified        226658 non-null  bool   \n",
      " 11  vote            21424 non-null   float64\n",
      "dtypes: bool(1), float64(2), int64(2), object(7)\n",
      "memory usage: 19.2+ MB\n"
     ]
    }
   ],
   "source": [
    "# Inspect columns\n",
    "df.info()"
   ]
  },
  {
   "cell_type": "code",
   "execution_count": 5,
   "id": "arbitrary-contribution",
   "metadata": {},
   "outputs": [
    {
     "data": {
      "text/plain": [
       "Index(['Unnamed: 0', 'asin', 'image', 'overall', 'reviewText', 'reviewTime',\n",
       "       'reviewerID', 'reviewerName', 'summary', 'unixReviewTime', 'verified',\n",
       "       'vote'],\n",
       "      dtype='object')"
      ]
     },
     "execution_count": 5,
     "metadata": {},
     "output_type": "execute_result"
    }
   ],
   "source": [
    "# Check column names\n",
    "df.columns"
   ]
  },
  {
   "cell_type": "code",
   "execution_count": 6,
   "id": "optional-blink",
   "metadata": {},
   "outputs": [
    {
     "data": {
      "text/html": [
       "<div>\n",
       "<style scoped>\n",
       "    .dataframe tbody tr th:only-of-type {\n",
       "        vertical-align: middle;\n",
       "    }\n",
       "\n",
       "    .dataframe tbody tr th {\n",
       "        vertical-align: top;\n",
       "    }\n",
       "\n",
       "    .dataframe thead th {\n",
       "        text-align: right;\n",
       "    }\n",
       "</style>\n",
       "<table border=\"1\" class=\"dataframe\">\n",
       "  <thead>\n",
       "    <tr style=\"text-align: right;\">\n",
       "      <th></th>\n",
       "      <th>overall</th>\n",
       "      <th>reviewText</th>\n",
       "      <th>reviewTime</th>\n",
       "      <th>reviewerID</th>\n",
       "      <th>summary</th>\n",
       "      <th>verified</th>\n",
       "    </tr>\n",
       "  </thead>\n",
       "  <tbody>\n",
       "    <tr>\n",
       "      <th>0</th>\n",
       "      <td>2.0</td>\n",
       "      <td>I bought this for my son and after 3 wears the...</td>\n",
       "      <td>11 19, 2014</td>\n",
       "      <td>A3COROWUV2JCDY</td>\n",
       "      <td>The quality is poor.</td>\n",
       "      <td>True</td>\n",
       "    </tr>\n",
       "    <tr>\n",
       "      <th>1</th>\n",
       "      <td>3.0</td>\n",
       "      <td>The material is nice and soft but it's a frump...</td>\n",
       "      <td>12 21, 2017</td>\n",
       "      <td>A33LFLWDQ446YN</td>\n",
       "      <td>Wouldn't recommend.</td>\n",
       "      <td>True</td>\n",
       "    </tr>\n",
       "    <tr>\n",
       "      <th>2</th>\n",
       "      <td>3.0</td>\n",
       "      <td>But not really good looking. Quality of fabric...</td>\n",
       "      <td>09 29, 2017</td>\n",
       "      <td>A2WGO277SII669</td>\n",
       "      <td>Comfortable and practical</td>\n",
       "      <td>True</td>\n",
       "    </tr>\n",
       "    <tr>\n",
       "      <th>3</th>\n",
       "      <td>4.0</td>\n",
       "      <td>I actually ended up returning this. The fit wa...</td>\n",
       "      <td>09 26, 2016</td>\n",
       "      <td>A22IGYALXEYTFB</td>\n",
       "      <td>I actually ended up returning this. The fit wa...</td>\n",
       "      <td>True</td>\n",
       "    </tr>\n",
       "    <tr>\n",
       "      <th>4</th>\n",
       "      <td>4.0</td>\n",
       "      <td>this dress feels somewhat thick on me and the ...</td>\n",
       "      <td>09 25, 2016</td>\n",
       "      <td>AEE2EOIPUJ529</td>\n",
       "      <td>Four Stars</td>\n",
       "      <td>True</td>\n",
       "    </tr>\n",
       "  </tbody>\n",
       "</table>\n",
       "</div>"
      ],
      "text/plain": [
       "   overall                                         reviewText   reviewTime  \\\n",
       "0      2.0  I bought this for my son and after 3 wears the...  11 19, 2014   \n",
       "1      3.0  The material is nice and soft but it's a frump...  12 21, 2017   \n",
       "2      3.0  But not really good looking. Quality of fabric...  09 29, 2017   \n",
       "3      4.0  I actually ended up returning this. The fit wa...  09 26, 2016   \n",
       "4      4.0  this dress feels somewhat thick on me and the ...  09 25, 2016   \n",
       "\n",
       "       reviewerID                                            summary  verified  \n",
       "0  A3COROWUV2JCDY                               The quality is poor.      True  \n",
       "1  A33LFLWDQ446YN                                Wouldn't recommend.      True  \n",
       "2  A2WGO277SII669                          Comfortable and practical      True  \n",
       "3  A22IGYALXEYTFB  I actually ended up returning this. The fit wa...      True  \n",
       "4   AEE2EOIPUJ529                                         Four Stars      True  "
      ]
     },
     "execution_count": 6,
     "metadata": {},
     "output_type": "execute_result"
    }
   ],
   "source": [
    "# Extract Columns related to our analysis\n",
    "df_related = df.drop(['Unnamed: 0', 'asin', 'image', 'reviewerName', 'unixReviewTime', 'vote'], axis = 1)\n",
    "df_related.head()"
   ]
  },
  {
   "cell_type": "code",
   "execution_count": 7,
   "id": "intelligent-planner",
   "metadata": {},
   "outputs": [
    {
     "data": {
      "text/plain": [
       "array([ True, False])"
      ]
     },
     "execution_count": 7,
     "metadata": {},
     "output_type": "execute_result"
    }
   ],
   "source": [
    "# Check values in verified\n",
    "df_related['verified'].unique()"
   ]
  },
  {
   "cell_type": "code",
   "execution_count": 8,
   "id": "asian-funeral",
   "metadata": {},
   "outputs": [],
   "source": [
    "# extract rows where verified is True\n",
    "df_related_verified = df_related[df_related['verified'] == True].reset_index(drop = True)"
   ]
  },
  {
   "cell_type": "code",
   "execution_count": 9,
   "id": "artificial-excess",
   "metadata": {},
   "outputs": [
    {
     "name": "stdout",
     "output_type": "stream",
     "text": [
      "212802\n"
     ]
    }
   ],
   "source": [
    "print(len(df_related_verified))"
   ]
  },
  {
   "cell_type": "markdown",
   "id": "textile-selling",
   "metadata": {},
   "source": [
    "**13,856** unverified rows were dropped."
   ]
  },
  {
   "cell_type": "code",
   "execution_count": 10,
   "id": "pointed-savannah",
   "metadata": {},
   "outputs": [
    {
     "name": "stdout",
     "output_type": "stream",
     "text": [
      "<class 'pandas.core.frame.DataFrame'>\n",
      "RangeIndex: 212802 entries, 0 to 212801\n",
      "Data columns (total 6 columns):\n",
      " #   Column      Non-Null Count   Dtype  \n",
      "---  ------      --------------   -----  \n",
      " 0   overall     212802 non-null  float64\n",
      " 1   reviewText  212635 non-null  object \n",
      " 2   reviewTime  212802 non-null  object \n",
      " 3   reviewerID  212802 non-null  object \n",
      " 4   summary     212699 non-null  object \n",
      " 5   verified    212802 non-null  bool   \n",
      "dtypes: bool(1), float64(1), object(4)\n",
      "memory usage: 8.3+ MB\n"
     ]
    }
   ],
   "source": [
    "# Inspect verified review dataframe\n",
    "df_related_verified.info()"
   ]
  },
  {
   "cell_type": "code",
   "execution_count": 11,
   "id": "three-associate",
   "metadata": {},
   "outputs": [],
   "source": [
    "# Drop rows with nulls\n",
    "df_related_verified_dropnulls = df_related_verified.dropna().reset_index(drop = True)"
   ]
  },
  {
   "cell_type": "code",
   "execution_count": 12,
   "id": "regular-camping",
   "metadata": {},
   "outputs": [
    {
     "data": {
      "text/html": [
       "<div>\n",
       "<style scoped>\n",
       "    .dataframe tbody tr th:only-of-type {\n",
       "        vertical-align: middle;\n",
       "    }\n",
       "\n",
       "    .dataframe tbody tr th {\n",
       "        vertical-align: top;\n",
       "    }\n",
       "\n",
       "    .dataframe thead th {\n",
       "        text-align: right;\n",
       "    }\n",
       "</style>\n",
       "<table border=\"1\" class=\"dataframe\">\n",
       "  <thead>\n",
       "    <tr style=\"text-align: right;\">\n",
       "      <th></th>\n",
       "      <th>overall</th>\n",
       "      <th>reviewText</th>\n",
       "      <th>reviewTime</th>\n",
       "      <th>reviewerID</th>\n",
       "      <th>summary</th>\n",
       "      <th>verified</th>\n",
       "    </tr>\n",
       "  </thead>\n",
       "  <tbody>\n",
       "    <tr>\n",
       "      <th>0</th>\n",
       "      <td>2.0</td>\n",
       "      <td>I bought this for my son and after 3 wears the...</td>\n",
       "      <td>11 19, 2014</td>\n",
       "      <td>A3COROWUV2JCDY</td>\n",
       "      <td>The quality is poor.</td>\n",
       "      <td>True</td>\n",
       "    </tr>\n",
       "    <tr>\n",
       "      <th>1</th>\n",
       "      <td>3.0</td>\n",
       "      <td>The material is nice and soft but it's a frump...</td>\n",
       "      <td>12 21, 2017</td>\n",
       "      <td>A33LFLWDQ446YN</td>\n",
       "      <td>Wouldn't recommend.</td>\n",
       "      <td>True</td>\n",
       "    </tr>\n",
       "    <tr>\n",
       "      <th>2</th>\n",
       "      <td>3.0</td>\n",
       "      <td>But not really good looking. Quality of fabric...</td>\n",
       "      <td>09 29, 2017</td>\n",
       "      <td>A2WGO277SII669</td>\n",
       "      <td>Comfortable and practical</td>\n",
       "      <td>True</td>\n",
       "    </tr>\n",
       "    <tr>\n",
       "      <th>3</th>\n",
       "      <td>4.0</td>\n",
       "      <td>I actually ended up returning this. The fit wa...</td>\n",
       "      <td>09 26, 2016</td>\n",
       "      <td>A22IGYALXEYTFB</td>\n",
       "      <td>I actually ended up returning this. The fit wa...</td>\n",
       "      <td>True</td>\n",
       "    </tr>\n",
       "    <tr>\n",
       "      <th>4</th>\n",
       "      <td>4.0</td>\n",
       "      <td>this dress feels somewhat thick on me and the ...</td>\n",
       "      <td>09 25, 2016</td>\n",
       "      <td>AEE2EOIPUJ529</td>\n",
       "      <td>Four Stars</td>\n",
       "      <td>True</td>\n",
       "    </tr>\n",
       "  </tbody>\n",
       "</table>\n",
       "</div>"
      ],
      "text/plain": [
       "   overall                                         reviewText   reviewTime  \\\n",
       "0      2.0  I bought this for my son and after 3 wears the...  11 19, 2014   \n",
       "1      3.0  The material is nice and soft but it's a frump...  12 21, 2017   \n",
       "2      3.0  But not really good looking. Quality of fabric...  09 29, 2017   \n",
       "3      4.0  I actually ended up returning this. The fit wa...  09 26, 2016   \n",
       "4      4.0  this dress feels somewhat thick on me and the ...  09 25, 2016   \n",
       "\n",
       "       reviewerID                                            summary  verified  \n",
       "0  A3COROWUV2JCDY                               The quality is poor.      True  \n",
       "1  A33LFLWDQ446YN                                Wouldn't recommend.      True  \n",
       "2  A2WGO277SII669                          Comfortable and practical      True  \n",
       "3  A22IGYALXEYTFB  I actually ended up returning this. The fit wa...      True  \n",
       "4   AEE2EOIPUJ529                                         Four Stars      True  "
      ]
     },
     "execution_count": 12,
     "metadata": {},
     "output_type": "execute_result"
    }
   ],
   "source": [
    "df_related_verified_dropnulls.head()"
   ]
  },
  {
   "cell_type": "code",
   "execution_count": null,
   "id": "domestic-convenience",
   "metadata": {},
   "outputs": [],
   "source": [
    "\n"
   ]
  },
  {
   "cell_type": "code",
   "execution_count": 53,
   "id": "south-minority",
   "metadata": {},
   "outputs": [],
   "source": [
    "# Drop duplicate rows\n",
    "df_related_final = df_related_verified_dropnulls.drop_duplicates().reset_index(drop = True)"
   ]
  },
  {
   "cell_type": "code",
   "execution_count": null,
   "id": "neither-commitment",
   "metadata": {},
   "outputs": [],
   "source": [
    "# drop verified column\n",
    "df_related"
   ]
  },
  {
   "cell_type": "code",
   "execution_count": 54,
   "id": "adverse-playback",
   "metadata": {},
   "outputs": [],
   "source": [
    "# Save file\n",
    "df_related_final.to_csv('df_final.csv', index = False)"
   ]
  },
  {
   "cell_type": "code",
   "execution_count": null,
   "id": "sudden-monster",
   "metadata": {},
   "outputs": [],
   "source": []
  },
  {
   "cell_type": "code",
   "execution_count": null,
   "id": "convertible-history",
   "metadata": {},
   "outputs": [],
   "source": []
  }
 ],
 "metadata": {
  "kernelspec": {
   "display_name": "Python [conda env:pythonadv] *",
   "language": "python",
   "name": "conda-env-pythonadv-py"
  },
  "language_info": {
   "codemirror_mode": {
    "name": "ipython",
    "version": 3
   },
   "file_extension": ".py",
   "mimetype": "text/x-python",
   "name": "python",
   "nbconvert_exporter": "python",
   "pygments_lexer": "ipython3",
   "version": "3.6.12"
  }
 },
 "nbformat": 4,
 "nbformat_minor": 5
}
