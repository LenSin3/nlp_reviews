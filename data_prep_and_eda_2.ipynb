{
 "cells": [
  {
   "cell_type": "markdown",
   "id": "joined-details",
   "metadata": {},
   "source": [
    "# Data Cleaning and Exploratory Data Analysis -- contd."
   ]
  },
  {
   "cell_type": "code",
   "execution_count": 6,
   "id": "patent-border",
   "metadata": {},
   "outputs": [],
   "source": [
    "#import dependencies\n",
    "import pandas as pd\n",
    "import matplotlib.pyplot as plt\n",
    "import numpy as np\n",
    "import seaborn as sns\n",
    "%matplotlib inline"
   ]
  },
  {
   "cell_type": "code",
   "execution_count": 4,
   "id": "confused-stereo",
   "metadata": {},
   "outputs": [
    {
     "data": {
      "text/html": [
       "<div>\n",
       "<style scoped>\n",
       "    .dataframe tbody tr th:only-of-type {\n",
       "        vertical-align: middle;\n",
       "    }\n",
       "\n",
       "    .dataframe tbody tr th {\n",
       "        vertical-align: top;\n",
       "    }\n",
       "\n",
       "    .dataframe thead th {\n",
       "        text-align: right;\n",
       "    }\n",
       "</style>\n",
       "<table border=\"1\" class=\"dataframe\">\n",
       "  <thead>\n",
       "    <tr style=\"text-align: right;\">\n",
       "      <th></th>\n",
       "      <th>overall</th>\n",
       "      <th>reviewText</th>\n",
       "      <th>reviewTime</th>\n",
       "      <th>reviewerID</th>\n",
       "      <th>summary</th>\n",
       "    </tr>\n",
       "  </thead>\n",
       "  <tbody>\n",
       "    <tr>\n",
       "      <th>0</th>\n",
       "      <td>2.0</td>\n",
       "      <td>I bought this for my son and after 3 wears the...</td>\n",
       "      <td>11 19, 2014</td>\n",
       "      <td>A3COROWUV2JCDY</td>\n",
       "      <td>The quality is poor.</td>\n",
       "    </tr>\n",
       "    <tr>\n",
       "      <th>1</th>\n",
       "      <td>3.0</td>\n",
       "      <td>The material is nice and soft but it's a frump...</td>\n",
       "      <td>12 21, 2017</td>\n",
       "      <td>A33LFLWDQ446YN</td>\n",
       "      <td>Wouldn't recommend.</td>\n",
       "    </tr>\n",
       "    <tr>\n",
       "      <th>2</th>\n",
       "      <td>3.0</td>\n",
       "      <td>But not really good looking. Quality of fabric...</td>\n",
       "      <td>09 29, 2017</td>\n",
       "      <td>A2WGO277SII669</td>\n",
       "      <td>Comfortable and practical</td>\n",
       "    </tr>\n",
       "    <tr>\n",
       "      <th>3</th>\n",
       "      <td>4.0</td>\n",
       "      <td>I actually ended up returning this. The fit wa...</td>\n",
       "      <td>09 26, 2016</td>\n",
       "      <td>A22IGYALXEYTFB</td>\n",
       "      <td>I actually ended up returning this. The fit wa...</td>\n",
       "    </tr>\n",
       "    <tr>\n",
       "      <th>4</th>\n",
       "      <td>4.0</td>\n",
       "      <td>this dress feels somewhat thick on me and the ...</td>\n",
       "      <td>09 25, 2016</td>\n",
       "      <td>AEE2EOIPUJ529</td>\n",
       "      <td>Four Stars</td>\n",
       "    </tr>\n",
       "  </tbody>\n",
       "</table>\n",
       "</div>"
      ],
      "text/plain": [
       "   overall                                         reviewText   reviewTime  \\\n",
       "0      2.0  I bought this for my son and after 3 wears the...  11 19, 2014   \n",
       "1      3.0  The material is nice and soft but it's a frump...  12 21, 2017   \n",
       "2      3.0  But not really good looking. Quality of fabric...  09 29, 2017   \n",
       "3      4.0  I actually ended up returning this. The fit wa...  09 26, 2016   \n",
       "4      4.0  this dress feels somewhat thick on me and the ...  09 25, 2016   \n",
       "\n",
       "       reviewerID                                            summary  \n",
       "0  A3COROWUV2JCDY                               The quality is poor.  \n",
       "1  A33LFLWDQ446YN                                Wouldn't recommend.  \n",
       "2  A2WGO277SII669                          Comfortable and practical  \n",
       "3  A22IGYALXEYTFB  I actually ended up returning this. The fit wa...  \n",
       "4   AEE2EOIPUJ529                                         Four Stars  "
      ]
     },
     "execution_count": 4,
     "metadata": {},
     "output_type": "execute_result"
    }
   ],
   "source": [
    "# Load cleaned review file df_final\n",
    "df = pd.read_csv('df_final.csv')\n",
    "df.head()"
   ]
  },
  {
   "cell_type": "code",
   "execution_count": 5,
   "id": "featured-convention",
   "metadata": {},
   "outputs": [
    {
     "data": {
      "text/plain": [
       "5.0    0.619712\n",
       "4.0    0.184028\n",
       "3.0    0.096245\n",
       "2.0    0.052211\n",
       "1.0    0.047804\n",
       "Name: overall, dtype: float64"
      ]
     },
     "execution_count": 5,
     "metadata": {},
     "output_type": "execute_result"
    }
   ],
   "source": [
    "# Check percentage of each rating\n",
    "df_overall_ratings = df['overall'].value_counts(normalize = True)\n",
    "df_overall_ratings"
   ]
  },
  {
   "cell_type": "code",
   "execution_count": 8,
   "id": "useful-banks",
   "metadata": {},
   "outputs": [
    {
     "name": "stderr",
     "output_type": "stream",
     "text": [
      "C:\\Users\\lenpk\\anaconda3\\envs\\PythonAdv\\lib\\site-packages\\seaborn\\_decorators.py:43: FutureWarning: Pass the following variable as a keyword arg: x. From version 0.12, the only valid positional argument will be `data`, and passing other arguments without an explicit keyword will result in an error or misinterpretation.\n",
      "  FutureWarning\n"
     ]
    },
    {
     "data": {
      "image/png": "[encoded data removed]",
      "text/plain": [
       "<Figure size 842.4x595.44 with 1 Axes>"
      ]
     },
     "metadata": {},
     "output_type": "display_data"
    }
   ],
   "source": [
    "# plot values of overall\n",
    "sns.set_style('ticks')\n",
    "fig, ax = plt.subplots()\n",
    "# the size of A4 paper\n",
    "fig.set_size_inches(11.7, 8.27)\n",
    "sns.countplot(df['overall'], order=df['overall'].value_counts(ascending=False).index)\n",
    "plt.show()"
   ]
  },
  {
   "cell_type": "code",
   "execution_count": null,
   "id": "dominican-cardiff",
   "metadata": {},
   "outputs": [],
   "source": []
  }
 ],
 "metadata": {
  "kernelspec": {
   "display_name": "Python [conda env:pythonadv] *",
   "language": "python",
   "name": "conda-env-pythonadv-py"
  },
  "language_info": {
   "codemirror_mode": {
    "name": "ipython",
    "version": 3
   },
   "file_extension": ".py",
   "mimetype": "text/x-python",
   "name": "python",
   "nbconvert_exporter": "python",
   "pygments_lexer": "ipython3",
   "version": "3.6.12"
  }
 },
 "nbformat": 4,
 "nbformat_minor": 5
}
